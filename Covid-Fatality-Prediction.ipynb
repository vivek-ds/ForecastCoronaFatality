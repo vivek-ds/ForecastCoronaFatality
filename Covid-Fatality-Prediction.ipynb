{
 "cells": [
  {
   "cell_type": "markdown",
   "metadata": {},
   "source": [
    "# Predicting fatality rates due to the novel Corona Virus"
   ]
  },
  {
   "cell_type": "code",
   "execution_count": 1,
   "metadata": {},
   "outputs": [],
   "source": [
    "#Importing libraries\n",
    "import pandas as pd"
   ]
  },
  {
   "cell_type": "code",
   "execution_count": 7,
   "metadata": {},
   "outputs": [],
   "source": [
    "#Reading in the datafiles\n",
    "covid_indicators = pd.read_csv(\"./Dataset/inform-covid-indicators.csv\")\n",
    "gov_measures = pd.read_csv(\"./Dataset/acaps-covid-19-government-measures-dataset.csv\")\n",
    "daily_dashboard = pd.read_csv(\"./Dataset/johns-hopkins-covid-19-daily-dashboard-cases-by-country.csv\")\n",
    "train = pd.read_csv(\"./Dataset/train.csv\")\n",
    "test = pd.read_csv(\"./Dataset/test.csv\")"
   ]
  }
 ],
 "metadata": {
  "kernelspec": {
   "display_name": "Python 3",
   "language": "python",
   "name": "python3"
  },
  "language_info": {
   "codemirror_mode": {
    "name": "ipython",
    "version": 3
   },
   "file_extension": ".py",
   "mimetype": "text/x-python",
   "name": "python",
   "nbconvert_exporter": "python",
   "pygments_lexer": "ipython3",
   "version": "3.7.4"
  }
 },
 "nbformat": 4,
 "nbformat_minor": 2
}
